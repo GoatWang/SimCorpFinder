{
 "cells": [
  {
   "cell_type": "code",
   "execution_count": 97,
   "metadata": {
    "collapsed": true,
    "deletable": true,
    "editable": true
   },
   "outputs": [],
   "source": [
    "import pandas as pd\n",
    "import json\n",
    "import os"
   ]
  },
  {
   "cell_type": "code",
   "execution_count": 103,
   "metadata": {
    "collapsed": false,
    "deletable": true,
    "editable": true
   },
   "outputs": [
    {
     "name": "stdout",
     "output_type": "stream",
     "text": [
      "output\\1119\\富樂_黏著劑_銷貨(H.B.Fuller Company)201711190752.json\n"
     ]
    },
    {
     "data": {
      "text/html": [
       "<div>\n",
       "<style>\n",
       "    .dataframe thead tr:only-child th {\n",
       "        text-align: right;\n",
       "    }\n",
       "\n",
       "    .dataframe thead th {\n",
       "        text-align: left;\n",
       "    }\n",
       "\n",
       "    .dataframe tbody tr th {\n",
       "        vertical-align: top;\n",
       "    }\n",
       "</style>\n",
       "<table border=\"1\" class=\"dataframe\">\n",
       "  <thead>\n",
       "    <tr style=\"text-align: right;\">\n",
       "      <th></th>\n",
       "      <th>name</th>\n",
       "      <th>score</th>\n",
       "      <th>document_length</th>\n",
       "      <th>url_count</th>\n",
       "      <th>acetate</th>\n",
       "      <th>adhesive</th>\n",
       "      <th>emulsion</th>\n",
       "      <th>ethylene</th>\n",
       "      <th>polyethylene</th>\n",
       "    </tr>\n",
       "  </thead>\n",
       "  <tbody>\n",
       "    <tr>\n",
       "      <th>0</th>\n",
       "      <td>KSS Line Ltd</td>\n",
       "      <td>0.462686</td>\n",
       "      <td>3568</td>\n",
       "      <td>6</td>\n",
       "      <td>2</td>\n",
       "      <td>0</td>\n",
       "      <td>0</td>\n",
       "      <td>10</td>\n",
       "      <td>0</td>\n",
       "    </tr>\n",
       "    <tr>\n",
       "      <th>1</th>\n",
       "      <td>I M Skaugen Se</td>\n",
       "      <td>0.420727</td>\n",
       "      <td>3487</td>\n",
       "      <td>1</td>\n",
       "      <td>0</td>\n",
       "      <td>0</td>\n",
       "      <td>0</td>\n",
       "      <td>10</td>\n",
       "      <td>0</td>\n",
       "    </tr>\n",
       "    <tr>\n",
       "      <th>2</th>\n",
       "      <td>Sloman Neptun Schiffahrts AG</td>\n",
       "      <td>0.287359</td>\n",
       "      <td>1166</td>\n",
       "      <td>4</td>\n",
       "      <td>0</td>\n",
       "      <td>0</td>\n",
       "      <td>0</td>\n",
       "      <td>4</td>\n",
       "      <td>0</td>\n",
       "    </tr>\n",
       "    <tr>\n",
       "      <th>3</th>\n",
       "      <td>Navigator Holdings Ltd</td>\n",
       "      <td>0.250919</td>\n",
       "      <td>6930</td>\n",
       "      <td>8</td>\n",
       "      <td>0</td>\n",
       "      <td>0</td>\n",
       "      <td>0</td>\n",
       "      <td>42</td>\n",
       "      <td>1</td>\n",
       "    </tr>\n",
       "    <tr>\n",
       "      <th>4</th>\n",
       "      <td>Discovery Air Inc.</td>\n",
       "      <td>0.175439</td>\n",
       "      <td>5979</td>\n",
       "      <td>1</td>\n",
       "      <td>0</td>\n",
       "      <td>4</td>\n",
       "      <td>0</td>\n",
       "      <td>0</td>\n",
       "      <td>0</td>\n",
       "    </tr>\n",
       "    <tr>\n",
       "      <th>5</th>\n",
       "      <td>Yang Ming Marine Transport Corp.</td>\n",
       "      <td>0.119209</td>\n",
       "      <td>6676</td>\n",
       "      <td>1</td>\n",
       "      <td>0</td>\n",
       "      <td>0</td>\n",
       "      <td>0</td>\n",
       "      <td>6</td>\n",
       "      <td>0</td>\n",
       "    </tr>\n",
       "    <tr>\n",
       "      <th>6</th>\n",
       "      <td>DongThap Petroleum Transportations JSC</td>\n",
       "      <td>0.092698</td>\n",
       "      <td>6319</td>\n",
       "      <td>1</td>\n",
       "      <td>0</td>\n",
       "      <td>2</td>\n",
       "      <td>0</td>\n",
       "      <td>0</td>\n",
       "      <td>0</td>\n",
       "    </tr>\n",
       "    <tr>\n",
       "      <th>7</th>\n",
       "      <td>Comvex SA</td>\n",
       "      <td>0.085419</td>\n",
       "      <td>4363</td>\n",
       "      <td>1</td>\n",
       "      <td>0</td>\n",
       "      <td>1</td>\n",
       "      <td>0</td>\n",
       "      <td>0</td>\n",
       "      <td>0</td>\n",
       "    </tr>\n",
       "    <tr>\n",
       "      <th>8</th>\n",
       "      <td>Otto Marine Ltd</td>\n",
       "      <td>0.071439</td>\n",
       "      <td>8770</td>\n",
       "      <td>1</td>\n",
       "      <td>0</td>\n",
       "      <td>2</td>\n",
       "      <td>0</td>\n",
       "      <td>0</td>\n",
       "      <td>0</td>\n",
       "    </tr>\n",
       "    <tr>\n",
       "      <th>9</th>\n",
       "      <td>Swissco Holdings Ltd</td>\n",
       "      <td>0.067899</td>\n",
       "      <td>4529</td>\n",
       "      <td>1</td>\n",
       "      <td>0</td>\n",
       "      <td>0</td>\n",
       "      <td>0</td>\n",
       "      <td>2</td>\n",
       "      <td>0</td>\n",
       "    </tr>\n",
       "    <tr>\n",
       "      <th>10</th>\n",
       "      <td>Tianjin Port Co Ltd</td>\n",
       "      <td>0.064214</td>\n",
       "      <td>4164</td>\n",
       "      <td>1</td>\n",
       "      <td>0</td>\n",
       "      <td>1</td>\n",
       "      <td>0</td>\n",
       "      <td>0</td>\n",
       "      <td>0</td>\n",
       "    </tr>\n",
       "    <tr>\n",
       "      <th>11</th>\n",
       "      <td>StealthGas Inc.</td>\n",
       "      <td>0.063068</td>\n",
       "      <td>7444</td>\n",
       "      <td>1</td>\n",
       "      <td>0</td>\n",
       "      <td>0</td>\n",
       "      <td>0</td>\n",
       "      <td>3</td>\n",
       "      <td>0</td>\n",
       "    </tr>\n",
       "    <tr>\n",
       "      <th>12</th>\n",
       "      <td>Wilson Sons</td>\n",
       "      <td>0.063041</td>\n",
       "      <td>3812</td>\n",
       "      <td>1</td>\n",
       "      <td>0</td>\n",
       "      <td>1</td>\n",
       "      <td>0</td>\n",
       "      <td>0</td>\n",
       "      <td>0</td>\n",
       "    </tr>\n",
       "    <tr>\n",
       "      <th>13</th>\n",
       "      <td>Novorossiyskiy sudoremontnyi zavod OAO</td>\n",
       "      <td>0.050382</td>\n",
       "      <td>43424</td>\n",
       "      <td>3</td>\n",
       "      <td>0</td>\n",
       "      <td>2</td>\n",
       "      <td>0</td>\n",
       "      <td>2</td>\n",
       "      <td>5</td>\n",
       "    </tr>\n",
       "    <tr>\n",
       "      <th>14</th>\n",
       "      <td>Berlian Laju Tanker Tbk PT</td>\n",
       "      <td>0.050260</td>\n",
       "      <td>2793</td>\n",
       "      <td>1</td>\n",
       "      <td>0</td>\n",
       "      <td>0</td>\n",
       "      <td>0</td>\n",
       "      <td>1</td>\n",
       "      <td>0</td>\n",
       "    </tr>\n",
       "    <tr>\n",
       "      <th>15</th>\n",
       "      <td>Hainan Airlines Co., Ltd.</td>\n",
       "      <td>0.044297</td>\n",
       "      <td>4708</td>\n",
       "      <td>1</td>\n",
       "      <td>0</td>\n",
       "      <td>1</td>\n",
       "      <td>0</td>\n",
       "      <td>0</td>\n",
       "      <td>0</td>\n",
       "    </tr>\n",
       "    <tr>\n",
       "      <th>16</th>\n",
       "      <td>Cargo Carriers</td>\n",
       "      <td>0.040142</td>\n",
       "      <td>14516</td>\n",
       "      <td>2</td>\n",
       "      <td>0</td>\n",
       "      <td>2</td>\n",
       "      <td>0</td>\n",
       "      <td>0</td>\n",
       "      <td>0</td>\n",
       "    </tr>\n",
       "    <tr>\n",
       "      <th>17</th>\n",
       "      <td>TAVS Kuban OAO</td>\n",
       "      <td>0.036532</td>\n",
       "      <td>37967</td>\n",
       "      <td>1</td>\n",
       "      <td>0</td>\n",
       "      <td>0</td>\n",
       "      <td>1</td>\n",
       "      <td>3</td>\n",
       "      <td>0</td>\n",
       "    </tr>\n",
       "    <tr>\n",
       "      <th>18</th>\n",
       "      <td>Gama Aviation PLC</td>\n",
       "      <td>0.036301</td>\n",
       "      <td>7641</td>\n",
       "      <td>1</td>\n",
       "      <td>0</td>\n",
       "      <td>1</td>\n",
       "      <td>0</td>\n",
       "      <td>0</td>\n",
       "      <td>0</td>\n",
       "    </tr>\n",
       "    <tr>\n",
       "      <th>19</th>\n",
       "      <td>Clarkson PLC</td>\n",
       "      <td>0.033583</td>\n",
       "      <td>12846</td>\n",
       "      <td>1</td>\n",
       "      <td>0</td>\n",
       "      <td>0</td>\n",
       "      <td>0</td>\n",
       "      <td>2</td>\n",
       "      <td>0</td>\n",
       "    </tr>\n",
       "    <tr>\n",
       "      <th>20</th>\n",
       "      <td>Teekay LNG Partners L.P.</td>\n",
       "      <td>0.033140</td>\n",
       "      <td>3974</td>\n",
       "      <td>1</td>\n",
       "      <td>0</td>\n",
       "      <td>0</td>\n",
       "      <td>0</td>\n",
       "      <td>1</td>\n",
       "      <td>0</td>\n",
       "    </tr>\n",
       "    <tr>\n",
       "      <th>21</th>\n",
       "      <td>Air Canada</td>\n",
       "      <td>0.017557</td>\n",
       "      <td>12938</td>\n",
       "      <td>1</td>\n",
       "      <td>0</td>\n",
       "      <td>0</td>\n",
       "      <td>0</td>\n",
       "      <td>0</td>\n",
       "      <td>1</td>\n",
       "    </tr>\n",
       "    <tr>\n",
       "      <th>22</th>\n",
       "      <td>Japan Airlines Co Ltd</td>\n",
       "      <td>0.014266</td>\n",
       "      <td>19676</td>\n",
       "      <td>1</td>\n",
       "      <td>0</td>\n",
       "      <td>1</td>\n",
       "      <td>0</td>\n",
       "      <td>0</td>\n",
       "      <td>0</td>\n",
       "    </tr>\n",
       "    <tr>\n",
       "      <th>23</th>\n",
       "      <td>J &amp; Bach International Logistics Co Ltd</td>\n",
       "      <td>0.004591</td>\n",
       "      <td>143937</td>\n",
       "      <td>1</td>\n",
       "      <td>0</td>\n",
       "      <td>1</td>\n",
       "      <td>2</td>\n",
       "      <td>2</td>\n",
       "      <td>0</td>\n",
       "    </tr>\n",
       "  </tbody>\n",
       "</table>\n",
       "</div>"
      ],
      "text/plain": [
       "                                       name     score  document_length  \\\n",
       "0                              KSS Line Ltd  0.462686             3568   \n",
       "1                            I M Skaugen Se  0.420727             3487   \n",
       "2              Sloman Neptun Schiffahrts AG  0.287359             1166   \n",
       "3                    Navigator Holdings Ltd  0.250919             6930   \n",
       "4                        Discovery Air Inc.  0.175439             5979   \n",
       "5          Yang Ming Marine Transport Corp.  0.119209             6676   \n",
       "6    DongThap Petroleum Transportations JSC  0.092698             6319   \n",
       "7                                 Comvex SA  0.085419             4363   \n",
       "8                           Otto Marine Ltd  0.071439             8770   \n",
       "9                      Swissco Holdings Ltd  0.067899             4529   \n",
       "10                      Tianjin Port Co Ltd  0.064214             4164   \n",
       "11                          StealthGas Inc.  0.063068             7444   \n",
       "12                              Wilson Sons  0.063041             3812   \n",
       "13   Novorossiyskiy sudoremontnyi zavod OAO  0.050382            43424   \n",
       "14               Berlian Laju Tanker Tbk PT  0.050260             2793   \n",
       "15                Hainan Airlines Co., Ltd.  0.044297             4708   \n",
       "16                           Cargo Carriers  0.040142            14516   \n",
       "17                           TAVS Kuban OAO  0.036532            37967   \n",
       "18                        Gama Aviation PLC  0.036301             7641   \n",
       "19                             Clarkson PLC  0.033583            12846   \n",
       "20                 Teekay LNG Partners L.P.  0.033140             3974   \n",
       "21                               Air Canada  0.017557            12938   \n",
       "22                    Japan Airlines Co Ltd  0.014266            19676   \n",
       "23  J & Bach International Logistics Co Ltd  0.004591           143937   \n",
       "\n",
       "    url_count  acetate  adhesive  emulsion  ethylene  polyethylene  \n",
       "0           6        2         0         0        10             0  \n",
       "1           1        0         0         0        10             0  \n",
       "2           4        0         0         0         4             0  \n",
       "3           8        0         0         0        42             1  \n",
       "4           1        0         4         0         0             0  \n",
       "5           1        0         0         0         6             0  \n",
       "6           1        0         2         0         0             0  \n",
       "7           1        0         1         0         0             0  \n",
       "8           1        0         2         0         0             0  \n",
       "9           1        0         0         0         2             0  \n",
       "10          1        0         1         0         0             0  \n",
       "11          1        0         0         0         3             0  \n",
       "12          1        0         1         0         0             0  \n",
       "13          3        0         2         0         2             5  \n",
       "14          1        0         0         0         1             0  \n",
       "15          1        0         1         0         0             0  \n",
       "16          2        0         2         0         0             0  \n",
       "17          1        0         0         1         3             0  \n",
       "18          1        0         1         0         0             0  \n",
       "19          1        0         0         0         2             0  \n",
       "20          1        0         0         0         1             0  \n",
       "21          1        0         0         0         0             1  \n",
       "22          1        0         1         0         0             0  \n",
       "23          1        0         1         2         2             0  "
      ]
     },
     "execution_count": 103,
     "metadata": {},
     "output_type": "execute_result"
    }
   ],
   "source": [
    "filenames = [os.path.join('output', '1119', dir) for dir in os.listdir(os.path.join('output', '1119')) if dir.endswith('.json')]\n",
    "filename = filenames[13]\n",
    "print(filename)\n",
    "\n",
    "file = open(filename, 'r', encoding='utf8')\n",
    "comparables = json.loads(file.read())\n",
    "\n",
    "for comparable in comparables:\n",
    "    comparable['url_count'] = len(comparable['order_list'])\n",
    "    for key in comparable['Keywords'].keys():\n",
    "        comparable[key]= comparable['Keywords'][key]\n",
    "        \n",
    "df = pd.DataFrame(comparables)\n",
    "df_show = df.drop('order_list', axis=1)\n",
    "df_show = df_show.drop('Keywords', axis=1)\n",
    "def deletezeroscolumn(df):\n",
    "    for column in df.columns:\n",
    "        if (df[column] == 0).all():\n",
    "            df.drop(column, axis=1, inplace=True)\n",
    "    return df\n",
    "df_show = deletezeroscolumn(df_show)\n",
    "# print(df_show.columns)\n",
    "\n",
    "showing_columns = ['name', 'score', 'document_length', 'url_count']\n",
    "keywords = [keyword for keyword in df_show.columns if keyword not in showing_columns]\n",
    "showing_columns.extend(keywords)\n",
    "df_show[showing_columns]"
   ]
  },
  {
   "cell_type": "code",
   "execution_count": null,
   "metadata": {
    "collapsed": false,
    "deletable": true,
    "editable": true
   },
   "outputs": [],
   "source": [
    "pd.DataFrame(list(df[df['name'] == 'Vidavo SA']['order_list'])[0])\n"
   ]
  },
  {
   "cell_type": "code",
   "execution_count": 146,
   "metadata": {
    "collapsed": false,
    "deletable": true,
    "editable": true
   },
   "outputs": [],
   "source": [
    "file.close()"
   ]
  },
  {
   "cell_type": "code",
   "execution_count": 5,
   "metadata": {
    "collapsed": false,
    "deletable": true,
    "editable": true
   },
   "outputs": [
    {
     "ename": "AttributeError",
     "evalue": "'DataFrame' object has no attribute 'to_list'",
     "output_type": "error",
     "traceback": [
      "\u001b[1;31m---------------------------------------------------------------------------\u001b[0m",
      "\u001b[1;31mAttributeError\u001b[0m                            Traceback (most recent call last)",
      "\u001b[1;32m<ipython-input-5-277f80592a91>\u001b[0m in \u001b[0;36m<module>\u001b[1;34m()\u001b[0m\n\u001b[0;32m      1\u001b[0m \u001b[0mdf_output\u001b[0m \u001b[1;33m=\u001b[0m \u001b[0mdf_show\u001b[0m\u001b[1;33m[\u001b[0m\u001b[0mshowing_columns\u001b[0m\u001b[1;33m]\u001b[0m\u001b[1;33m\u001b[0m\u001b[0m\n\u001b[1;32m----> 2\u001b[1;33m \u001b[0mdf_output\u001b[0m\u001b[1;33m.\u001b[0m\u001b[0mto_list\u001b[0m\u001b[1;33m(\u001b[0m\u001b[1;33m)\u001b[0m\u001b[1;33m\u001b[0m\u001b[0m\n\u001b[0m",
      "\u001b[1;32mc:\\users\\jeremy\\appdata\\local\\programs\\python\\python35\\lib\\site-packages\\pandas\\core\\generic.py\u001b[0m in \u001b[0;36m__getattr__\u001b[1;34m(self, name)\u001b[0m\n\u001b[0;32m   2968\u001b[0m             \u001b[1;32mif\u001b[0m \u001b[0mname\u001b[0m \u001b[1;32min\u001b[0m \u001b[0mself\u001b[0m\u001b[1;33m.\u001b[0m\u001b[0m_info_axis\u001b[0m\u001b[1;33m:\u001b[0m\u001b[1;33m\u001b[0m\u001b[0m\n\u001b[0;32m   2969\u001b[0m                 \u001b[1;32mreturn\u001b[0m \u001b[0mself\u001b[0m\u001b[1;33m[\u001b[0m\u001b[0mname\u001b[0m\u001b[1;33m]\u001b[0m\u001b[1;33m\u001b[0m\u001b[0m\n\u001b[1;32m-> 2970\u001b[1;33m             \u001b[1;32mreturn\u001b[0m \u001b[0mobject\u001b[0m\u001b[1;33m.\u001b[0m\u001b[0m__getattribute__\u001b[0m\u001b[1;33m(\u001b[0m\u001b[0mself\u001b[0m\u001b[1;33m,\u001b[0m \u001b[0mname\u001b[0m\u001b[1;33m)\u001b[0m\u001b[1;33m\u001b[0m\u001b[0m\n\u001b[0m\u001b[0;32m   2971\u001b[0m \u001b[1;33m\u001b[0m\u001b[0m\n\u001b[0;32m   2972\u001b[0m     \u001b[1;32mdef\u001b[0m \u001b[0m__setattr__\u001b[0m\u001b[1;33m(\u001b[0m\u001b[0mself\u001b[0m\u001b[1;33m,\u001b[0m \u001b[0mname\u001b[0m\u001b[1;33m,\u001b[0m \u001b[0mvalue\u001b[0m\u001b[1;33m)\u001b[0m\u001b[1;33m:\u001b[0m\u001b[1;33m\u001b[0m\u001b[0m\n",
      "\u001b[1;31mAttributeError\u001b[0m: 'DataFrame' object has no attribute 'to_list'"
     ]
    }
   ],
   "source": [
    "df_output = df_show[showing_columns]\n",
    "df_output.to_list()"
   ]
  },
  {
   "cell_type": "code",
   "execution_count": 6,
   "metadata": {
    "collapsed": false,
    "deletable": true,
    "editable": true
   },
   "outputs": [
    {
     "ename": "TypeError",
     "evalue": "'str' object cannot be interpreted as an integer",
     "output_type": "error",
     "traceback": [
      "\u001b[1;31m---------------------------------------------------------------------------\u001b[0m",
      "\u001b[1;31mTypeError\u001b[0m                                 Traceback (most recent call last)",
      "\u001b[1;32m<ipython-input-6-08eb908b7648>\u001b[0m in \u001b[0;36m<module>\u001b[1;34m()\u001b[0m\n\u001b[0;32m      1\u001b[0m \u001b[0ma\u001b[0m \u001b[1;33m=\u001b[0m \u001b[1;33m[\u001b[0m\u001b[1;34m'a'\u001b[0m \u001b[1;33m,\u001b[0m\u001b[1;34m'b'\u001b[0m\u001b[1;33m]\u001b[0m\u001b[1;33m\u001b[0m\u001b[0m\n\u001b[1;32m----> 2\u001b[1;33m \u001b[0ma\u001b[0m\u001b[1;33m.\u001b[0m\u001b[0mpop\u001b[0m\u001b[1;33m(\u001b[0m\u001b[1;34m'a'\u001b[0m\u001b[1;33m)\u001b[0m\u001b[1;33m\u001b[0m\u001b[0m\n\u001b[0m",
      "\u001b[1;31mTypeError\u001b[0m: 'str' object cannot be interpreted as an integer"
     ]
    }
   ],
   "source": [
    "a = ['a' ,'b']\n",
    "a.pop('a')"
   ]
  },
  {
   "cell_type": "code",
   "execution_count": null,
   "metadata": {
    "collapsed": true,
    "deletable": true,
    "editable": true
   },
   "outputs": [],
   "source": [
    "df_show.to_csv()"
   ]
  },
  {
   "cell_type": "code",
   "execution_count": null,
   "metadata": {
    "collapsed": true,
    "deletable": true,
    "editable": true
   },
   "outputs": [],
   "source": []
  },
  {
   "cell_type": "code",
   "execution_count": 152,
   "metadata": {
    "collapsed": false,
    "deletable": true,
    "editable": true
   },
   "outputs": [
    {
     "data": {
      "text/plain": [
       "623"
      ]
     },
     "execution_count": 152,
     "metadata": {},
     "output_type": "execute_result"
    }
   ],
   "source": [
    "AA = \"\"\"niching industrial corp two quote reuterscom x edition united state latina brasil deutschland italia united kingdom united state niching industrial corp two related topic stocksstock screenermarket datatechnologysemiconductors overview news key development people chart financials analyst research two gre tai security market twd nov change chg nt prev close nt open nt day high nt day low nt volume avg vol wk high wk low nt niching industrial corporation taiwanbased company principally engaged sale semiconductor component equipment optoelectronic product semiconductor product include capillary packaging component lead frame film wafer dummy wafer memory module board mmbs printed circuit board pcbs buysell analyst recommendation available analyst consensus overall beta market capmil share outstandingmil dividend yield financials industry sector pe ttm eps ttm roi roe latest news two briefniching industrial pay dividend aug say pay dividend shareholder aug jun two news earnings v estimate consensus analysis data available related topic stocksstock screenermarket datatechnologysemiconductors niching industrial corporation provider professional technology integration welcome niching industrail corporation home niching company profile niching menu company profilemilestonepartnersniching location contact u company profile founded niching industrial corporation become topranking electronic access service provider fast track strong constitution officially listed code followed growth trend hightech industry niching professionally efficiently creating marketing channel semiconductor flat panel display led green energy nanotechnology selfdeveloped technique pioneered nanomaterial laboratory established niching succeeded developing firstever selfmade touch nano silver put market niching industrial corporation provider professional technology integration welcome niching industrail corporation home niching niching niching menu company profilemilestonepartnersniching location contact u niching niching co ltd established city suzhou niching industrial corporation professional dealer material equipment niching suzhou specializes industry semiconductor semi flat panel display fpd light emitting diode led touch panel acting agent related product made niching sale network extended especially yangtze river delta pearl river delta region widespread service network formed provide highquality professional service good reputation besides ultimate goal build close partnership supplier client hope realizing triplewin situation innovation sustainability upholding business concept including excellence sincerity innovation service rapidity niching stand competitor facing wave wave challenge market niching industrial corporation nanomaterials semiconductor lcd industry led industry latest news niching march revenue reached nt million monthly growth wireless power charging coil flexceed substrate stretchable flexible module provider professional technology integration welcome niching industrial corporation provider professional technology integration welcome niching industrial corporation provider professional technology integration welcome niching industrial corporation niching industrial corporation provider professional technology integration welcome niching industrail corporation home niching contact u u menu company profilemilestonepartnersniching location contact u contact u thank visiting niching product service comment question please fill form contact shortly company change submit reset niching industrial corporation provider professional technology integration welcome niching industrail corporation home product semiconductor product nanomaterialssemiconductorlcd industryled industryother semiconductor pcb solidstate drive ssd substrate ic packaging capillary wedge reclaim wafer die collet needle daisy chain wafer dispensing nozzle al coating wafer dummy wafer special gas cf specialty gas fn sputtering target target tiw target pcb memory module die attach filmdaffodfow niching industrial corporation provider professional technology integration wellcome industrail corporation provider professional technology integration welcome niching industrail corporation home product product nanomaterialssemiconductorlcd industryled industryother substrate stretchable module substrate flexible module wireless power charging coil printing paste laser etching screen printing silver paste nano imprint silver paste silver ink gravure set silver paste pcb solidstate drive ssd substrate ic packaging capillary wedge reclaim wafer die collet needle daisy chain wafer dispensing nozzle sputtering target target tiw target niching industrial corporation provider professional technology integration welcome niching industrail corporation home product led industry product nanomaterialssemiconductorlcd industryled industryother led industry led tab lead frameqfn m led lead frame niching industrial corporation provider professional technology integration welcome niching industrail corporation home niching news center hot news news center menu hot newsniching newspress releaseproduct newscompany event hot news year please select data\"\"\"\n",
    "len(AA.split())"
   ]
  },
  {
   "cell_type": "code",
   "execution_count": null,
   "metadata": {
    "collapsed": true,
    "deletable": true,
    "editable": true
   },
   "outputs": [],
   "source": []
  },
  {
   "cell_type": "code",
   "execution_count": null,
   "metadata": {
    "collapsed": true,
    "deletable": true,
    "editable": true
   },
   "outputs": [],
   "source": []
  },
  {
   "cell_type": "code",
   "execution_count": null,
   "metadata": {
    "collapsed": true,
    "deletable": true,
    "editable": true
   },
   "outputs": [],
   "source": []
  },
  {
   "cell_type": "code",
   "execution_count": null,
   "metadata": {
    "collapsed": true,
    "deletable": true,
    "editable": true
   },
   "outputs": [],
   "source": []
  },
  {
   "cell_type": "code",
   "execution_count": null,
   "metadata": {
    "collapsed": true,
    "deletable": true,
    "editable": true
   },
   "outputs": [],
   "source": []
  },
  {
   "cell_type": "code",
   "execution_count": 91,
   "metadata": {
    "collapsed": false,
    "deletable": true,
    "editable": true
   },
   "outputs": [
    {
     "data": {
      "text/plain": [
       "numpy.int32"
      ]
     },
     "execution_count": 91,
     "metadata": {},
     "output_type": "execute_result"
    }
   ],
   "source": [
    "import numpy as np\n",
    "import math\n",
    "tfPositiveCount = [ 2, 2, 2, 97, 10, 53, 4, 15, 55, 20, 2]\n",
    "type(np.prod(tfPositiveCount))"
   ]
  },
  {
   "cell_type": "code",
   "execution_count": 95,
   "metadata": {
    "collapsed": false,
    "deletable": true,
    "editable": true
   },
   "outputs": [
    {
     "name": "stdout",
     "output_type": "stream",
     "text": [
      "2714448000\n",
      "-1545614848\n",
      "1203737600\n"
     ]
    }
   ],
   "source": [
    "print(np.prod([ 2, 2, 2, 97, 10, 53, 4, 15, 55, 2], dtype=np.int64))\n",
    "print(np.prod([ 2, 2, 2, 97, 10, 53, 4, 15, 55, 20, 2]))\n",
    "print(np.prod([ 2, 2, 2, 97, 10, 53, 4, 15, 55, 20, 4]))\n"
   ]
  },
  {
   "cell_type": "code",
   "execution_count": 93,
   "metadata": {
    "collapsed": false,
    "deletable": true,
    "editable": true
   },
   "outputs": [
    {
     "data": {
      "text/plain": [
       "9223372036854775807"
      ]
     },
     "execution_count": 93,
     "metadata": {},
     "output_type": "execute_result"
    }
   ],
   "source": [
    "np.iinfo(np.int64).max"
   ]
  },
  {
   "cell_type": "code",
   "execution_count": 87,
   "metadata": {
    "collapsed": false,
    "deletable": true,
    "editable": true
   },
   "outputs": [
    {
     "data": {
      "text/plain": [
       "2714448000"
      ]
     },
     "execution_count": 87,
     "metadata": {},
     "output_type": "execute_result"
    }
   ],
   "source": [
    "a = [ 2, 2, 2, 97, 10, 53, 4, 15, 55, 2]\n",
    "b = 1\n",
    "for i in a:\n",
    "    b = b*i\n",
    "b"
   ]
  },
  {
   "cell_type": "code",
   "execution_count": 149,
   "metadata": {
    "collapsed": false,
    "deletable": true,
    "editable": true
   },
   "outputs": [
    {
     "data": {
      "text/plain": [
       "array([[  4.74338973e-01,   2.91677165e-01,   1.32262833e-01,\n",
       "          9.31272476e-02,   8.13071592e-02,   7.63941495e-02,\n",
       "          4.00303290e-02,   3.89564245e-02,   2.70252123e-02,\n",
       "          2.60874867e-02,   2.43799676e-02,   2.30700042e-02,\n",
       "          2.15757793e-02,   1.79493855e-02,   1.73343983e-02,\n",
       "          1.41795316e-02,   1.38674013e-02,   1.35959255e-02,\n",
       "          1.32528589e-02,   1.23115878e-02,   9.40418113e-03,\n",
       "          5.44180620e-03,   5.32952460e-03,   3.44068687e-03,\n",
       "          2.90723367e-03,   2.68482722e-03,   2.61957004e-03,\n",
       "          2.49407760e-03,   1.90755213e-03,   1.53410153e-03,\n",
       "          1.44018061e-03,   1.00328787e-03,   8.59794564e-04,\n",
       "          8.59536583e-04,   5.62303699e-04,   7.29730790e-06,\n",
       "          6.75900163e-06,   6.75147617e-06,   4.36716755e-06,\n",
       "          4.09063053e-06,   6.17327650e-07]])"
      ]
     },
     "execution_count": 149,
     "metadata": {},
     "output_type": "execute_result"
    }
   ],
   "source": [
    "from sklearn.preprocessing import normalize\n",
    "\n",
    "scoreTupleList =  [('Euro Tech Holdings Co. Ltd.', 0.47433897340766568), ('Naito & Co Ltd', 0.29167716470348337), ('NIHON DENKEI CO., LTD.', 0.13226283253675195), ('MARUBUN CORPORATION', 0.093127247607820915), ('SUN-WA TECHNOS CORPORATION', 0.081307159164132059), ('Yleiselektroniikka Oyj', 0.076394149487120755), ('WPG Holdings Limited', 0.04003032900961212), ('Kyokuto Boeki Kaisha, Ltd.', 0.038956424497933899), ('TOMITA CO., LTD.', 0.027025212262284815), ('Answer Technology Co., Ltd.', 0.026087486732565727), ('TRUSCO NAKAYAMA CORPORATION', 0.024379967635849355), ('MEIJI ELECTRIC INDUSTRIES CO., LTD.', 0.023070004211582024), ('Tomen Electronics Corp', 0.021575779301310355), ('MISUMI Group Inc.', 0.017949385466124072), ('SEIKA CORPORATION', 0.017334398291433187), ('Chander Electronics Corp.', 0.014179531590759993), ('Makus, Inc.', 0.013867401342032126), ('Spirox Corporation', 0.0135959255178909), ('TAKACHIHO KOHEKI CO., LTD.', 0.013252858911247377), ('LITE-ON JAPAN LTD.', 0.012311587845103996), ('WT Microelectronics Co., Ltd.', 0.0094041811306468329), ('VITEC CO., LTD.', 0.0054418061992066048), ('Electrocomponents plc', 0.0053295245993825475), ('Howteh Technology Co., Ltd.', 0.0034406868706193089), ('TESSCO Technologies, Inc.', 0.0029072336721093191), ('Nichiden Corp', 0.002684827224350231), ('ASEC International Corporation', 0.0026195700411868585), ('Solomon Technology Corporation', 0.0024940776032625813), ('HAGIWARA ELECTRIC CO., LTD.', 0.0019075521326794641), ('Flowtech Fluidpower PLC', 0.0015341015313700204), ('AIKO CORPORATION', 0.0014401806099747282), ('OSAKA KOHKI CO LTD', 0.0010032878677468542), ('YKT CORPORATION', 0.00085979456385944914), ('RADA Electronic Ind. Ltd.', 0.00085953658343855218), ('Uematsu Shokai Co., Ltd.', 0.00056230369936557565), ('Trust-Search Corp.,Ltd.', 7.2973078960581177e-06), ('SUGIMOTO& CO., LTD.', 6.7590016254189038e-06), ('Leeport (Holdings) Limited', 6.751476169150322e-06), ('Toshin Group Co., Ltd.', 4.3671675512746826e-06), ('ZHONGYEDA ELECTRIC CO.,LTD.', 4.0906305341234198e-06), ('Rexel SA', 6.1732764964961204e-07)]\n",
    "# companyScoreDict =  {'HAGIWARA ELECTRIC CO., LTD.': -0.0019075521326794641, 'RADA Electronic Ind. Ltd.': 0.00085953658343855218, 'TAKACHIHO KOHEKI CO., LTD.': 0.013252858911247377, 'Chander Electronics Corp.': 0.014179531590759993, 'TRUSCO NAKAYAMA CORPORATION': 0.024379967635849355, 'Euro Tech Holdings Co. Ltd.': 0.47433897340766568, 'ASEC International Corporation': 0.0026195700411868585, 'Makus, Inc.': 0.013867401342032126, 'Flowtech Fluidpower PLC': 0.0015341015313700204, 'Kyokuto Boeki Kaisha, Ltd.': 0.038956424497933899, 'VITEC CO., LTD.': 0.0054418061992066048, 'SUGIMOTO& CO., LTD.': 6.7590016254189038e-06, 'TOMITA CO., LTD.': 0.027025212262284815, 'WPG Holdings Limited': 0.040030329009612127, 'Yleiselektroniikka Oyj': 0.076394149487120755, 'Solomon Technology Corporation': 0.0024940776032625813, 'Spirox Corporation': 0.013595925517890899, 'Answer Technology Co., Ltd.': 0.026087486732565727, 'MARUBUN CORPORATION': 0.093127247607820915, 'YKT CORPORATION': 0.00085979456385944914, 'Naito & Co Ltd': 0.29167716470348337, 'MEIJI ELECTRIC INDUSTRIES CO., LTD.': 0.023070004211582021, 'Rexel SA': 6.1732764964961204e-07, 'WT Microelectronics Co., Ltd.': 0.0094041811306468329, 'Nichiden Corp': 0.002684827224350231, 'Toshin Group Co., Ltd.': 4.3671675512746826e-06, 'AIKO CORPORATION': 0.0014401806099747282, 'NIHON DENKEI CO., LTD.': 0.13226283253675195, 'MISUMI Group Inc.': 0.017949385466124072, 'OSAKA KOHKI CO LTD': 0.0010032878677468542, 'Uematsu Shokai Co., Ltd.': 0.00056230369936557565, 'Tomen Electronics Corp': 0.021575779301310351, 'Leeport (Holdings) Limited': 6.751476169150322e-06, 'Howteh Technology Co., Ltd.': 0.0034406868706193089, 'ZHONGYEDA ELECTRIC CO.,LTD.': 4.0906305341234198e-06, 'Electrocomponents plc': 0.0053295245993825483, 'TESSCO Technologies, Inc.': 0.0029072336721093191, 'SEIKA CORPORATION': 0.017334398291433187, 'Trust-Search Corp.,Ltd.': 7.2973078960581177e-06, 'SUN-WA TECHNOS CORPORATION': 0.081307159164132059, 'LITE-ON JAPAN LTD.': 0.012311587845103996}\n",
    "\n",
    "\n",
    "df = pd.DataFrame(scoreTupleList)\n",
    "df.loc[df[1] > 0, 1].values.reshape(1,-1)\n",
    "# df.loc[df[1] > 0, 1] = normalize(df.loc[df[1] > 0, 1])[0]\n",
    "# scoreTupleList = [(comp, score) for (comp, score) in df.values if score != 0.00]\n",
    "# scoreTupleList"
   ]
  },
  {
   "cell_type": "code",
   "execution_count": 130,
   "metadata": {
    "collapsed": false,
    "deletable": true,
    "editable": true
   },
   "outputs": [
    {
     "name": "stderr",
     "output_type": "stream",
     "text": [
      "c:\\users\\jeremy\\appdata\\local\\programs\\python\\python35\\lib\\site-packages\\sklearn\\utils\\validation.py:395: DeprecationWarning: Passing 1d arrays as data is deprecated in 0.17 and will raise ValueError in 0.19. Reshape your data either using X.reshape(-1, 1) if your data has a single feature or X.reshape(1, -1) if it contains a single sample.\n",
      "  DeprecationWarning)\n"
     ]
    },
    {
     "data": {
      "text/plain": [
       "array([  7.94397063e-01,   4.88485020e-01,   2.21506584e-01,\n",
       "         1.55964439e-01,   1.36168799e-01,   1.27940758e-01,\n",
       "         6.70406135e-02,   6.52420968e-02,   4.52603527e-02,\n",
       "         4.36899011e-02,   4.08302412e-02,   3.86363858e-02,\n",
       "         3.61339394e-02,   3.00606526e-02,   2.90307056e-02,\n",
       "         2.37471068e-02,   2.32243680e-02,   2.27697151e-02,\n",
       "         2.21951659e-02,   2.06187764e-02,   1.57496101e-02,\n",
       "         9.11364046e-03,   8.92559736e-03,   5.76227487e-03,\n",
       "         4.86887652e-03,   4.49640232e-03,   4.38711315e-03,\n",
       "         4.17694525e-03,   3.19466436e-03,   2.56922964e-03,\n",
       "         2.41193600e-03,   1.68025185e-03,   1.43993708e-03,\n",
       "         1.43950503e-03,   9.41715592e-04,   1.22211336e-05,\n",
       "         1.13196076e-05,   1.13070044e-05,   7.31389422e-06,\n",
       "         6.85076509e-06,   1.03386671e-06])"
      ]
     },
     "execution_count": 130,
     "metadata": {},
     "output_type": "execute_result"
    }
   ],
   "source": [
    "normalize(df.loc[df[1] > 0, 1]).reshape(-1)"
   ]
  },
  {
   "cell_type": "code",
   "execution_count": 102,
   "metadata": {
    "collapsed": false,
    "deletable": true,
    "editable": true
   },
   "outputs": [
    {
     "data": {
      "text/plain": [
       "True"
      ]
     },
     "execution_count": 102,
     "metadata": {},
     "output_type": "execute_result"
    }
   ],
   "source": [
    "A = np.array([0, 0, 0, 0, 2, 0, 57, 3])\n",
    "\n",
    "np.array([A > 1, A > 2]).any()"
   ]
  },
  {
   "cell_type": "code",
   "execution_count": 107,
   "metadata": {
    "collapsed": false,
    "deletable": true,
    "editable": true
   },
   "outputs": [
    {
     "name": "stderr",
     "output_type": "stream",
     "text": [
      "c:\\users\\jeremy\\appdata\\local\\programs\\python\\python35\\lib\\site-packages\\sklearn\\utils\\validation.py:395: DeprecationWarning: Passing 1d arrays as data is deprecated in 0.17 and will raise ValueError in 0.19. Reshape your data either using X.reshape(-1, 1) if your data has a single feature or X.reshape(1, -1) if it contains a single sample.\n",
      "  DeprecationWarning)\n"
     ]
    },
    {
     "data": {
      "text/plain": [
       "array([[ 0.58138921,  0.5286662 ,  0.36108125,  0.31529301,  0.22044891,\n",
       "         0.149792  ,  0.11648035,  0.10733317,  0.08976659,  0.08531841,\n",
       "         0.0806884 ,  0.07924836,  0.07921417,  0.06330732,  0.06315474,\n",
       "         0.05566172,  0.05044044,  0.04590454,  0.04561451,  0.04219852,\n",
       "         0.04164157,  0.02206095,  0.01792649,  0.00576843]])"
      ]
     },
     "execution_count": 107,
     "metadata": {},
     "output_type": "execute_result"
    }
   ],
   "source": [
    "from sklearn.preprocessing import normalize\n",
    "df_show.loc[df_show['score'] > 0, 'score'] = normalize(df_show.loc[df_show['score'] > 0, 'score'])\n",
    "normalize(df_show.loc[df_show['score'] > 0, 'score'])\n",
    "# df_show.loc[df_show['score'] > 0, 'score']\n",
    "\n"
   ]
  },
  {
   "cell_type": "code",
   "execution_count": null,
   "metadata": {
    "collapsed": true,
    "deletable": true,
    "editable": true
   },
   "outputs": [],
   "source": []
  }
 ],
 "metadata": {
  "kernelspec": {
   "display_name": "Python 3",
   "language": "python",
   "name": "python3"
  },
  "language_info": {
   "codemirror_mode": {
    "name": "ipython",
    "version": 3
   },
   "file_extension": ".py",
   "mimetype": "text/x-python",
   "name": "python",
   "nbconvert_exporter": "python",
   "pygments_lexer": "ipython3",
   "version": "3.5.3"
  }
 },
 "nbformat": 4,
 "nbformat_minor": 2
}
